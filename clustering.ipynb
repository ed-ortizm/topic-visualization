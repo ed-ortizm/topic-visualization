{
 "cells": [
  {
   "attachments": {},
   "cell_type": "markdown",
   "metadata": {},
   "source": [
    "## Cluster analysis of word embeddings"
   ]
  },
  {
   "cell_type": "code",
   "execution_count": 3,
   "metadata": {},
   "outputs": [],
   "source": [
    "import matplotlib.pyplot as plt\n",
    "import os\n",
    "import pickle\n",
    "\n",
    "import numpy as np\n",
    "from sklearn.cluster import KMeans\n",
    "from sklearn.metrics import silhouette_score"
   ]
  },
  {
   "cell_type": "code",
   "execution_count": 4,
   "metadata": {},
   "outputs": [],
   "source": [
    "# load word embeddings\n",
    "embeddings = {\n",
    "    'html_clean': np.load('data/embedding_html_clean.npy'),\n",
    "    'html_80': np.load(\n",
    "        'data/embedding_html_clean_reduced_explained_80.npy'\n",
    "    ),\n",
    "    'html_90': np.load(\n",
    "        'data/embedding_html_clean_reduced_explained_90.npy'\n",
    "    ),\n",
    "}\n",
    "data_label = 'html_90'\n",
    "data = embeddings[data_label]\n",
    "\n",
    "# save model, cluster centers and labels in a dedicated folder\n",
    "model_dir = f'data/{data_label}'\n",
    "os.makedirs(model_dir, exist_ok=True)"
   ]
  },
  {
   "cell_type": "code",
   "execution_count": 6,
   "metadata": {},
   "outputs": [
    {
     "name": "stdout",
     "output_type": "stream",
     "text": [
      "Clustering with 2 clusters...\n"
     ]
    }
   ],
   "source": [
    "# range of cluster numbers to try\n",
    "min_clusters = 2\n",
    "max_clusters = 8\n",
    "\n",
    "# Sum of Squared Errors and silhouette scores\n",
    "sse = []\n",
    "silhouette_scores = []\n",
    "\n",
    "for n_clusters in range(min_clusters, max_clusters + 1):\n",
    "\n",
    "    print(f'Clustering with {n_clusters} clusters...')\n",
    "\n",
    "    kmeans = KMeans(\n",
    "        n_clusters=n_clusters,\n",
    "        random_state=0,\n",
    "        n_init='auto',\n",
    "    )\n",
    "    \n",
    "    kmeans.fit(data)\n",
    "    \n",
    "    # Calculate SSE (Sum of Squared Errors)\n",
    "    sse.append(kmeans.inertia_)\n",
    "    \n",
    "    # Calculate Silhouette score\n",
    "    labels = kmeans.labels_\n",
    "    score = silhouette_score(data, labels)\n",
    "    silhouette_scores.append(score)"
   ]
  },
  {
   "cell_type": "code",
   "execution_count": 10,
   "metadata": {},
   "outputs": [
    {
     "data": {
      "image/png": "[encoded data removed]",
      "text/plain": [
       "<Figure size 720x288 with 2 Axes>"
      ]
     },
     "metadata": {
      "needs_background": "light"
     },
     "output_type": "display_data"
    }
   ],
   "source": [
    "# Plot SSE and silhouette scores\n",
    "fig, ax = plt.subplots(1, 2, figsize=(10, 4))\n",
    "\n",
    "ax[0].plot(range(min_clusters, max_clusters + 1), sse, marker='o')\n",
    "ax[0].set_xlabel('Number of Clusters')\n",
    "ax[0].set_ylabel('SSE')\n",
    "ax[0].set_title('Elbow Method: SSE')\n",
    "\n",
    "ax[1].plot(range(min_clusters, max_clusters + 1), silhouette_scores, marker='o')\n",
    "ax[1].set_xlabel('Number of Clusters')\n",
    "ax[1].set_ylabel('Silhouette Score')\n",
    "ax[1].set_title('Elbow Method: Silhouette Score')\n",
    "\n",
    "plt.tight_layout()\n",
    "\n",
    "fig.savefig(f'{model_dir}/elbow_method.pdf')\n",
    "np.save(f'{model_dir}/sse.npy', sse)\n",
    "np.save(f'{model_dir}/silhouette_scores.npy', silhouette_scores)\n"
   ]
  },
  {
   "cell_type": "code",
   "execution_count": 11,
   "metadata": {},
   "outputs": [],
   "source": [
    "n_clusters = 5\n",
    "\n",
    "kmeans = KMeans(n_clusters=n_clusters, random_state=0, n_init='auto')\n",
    "kmeans.fit(data)\n",
    "\n",
    "labels = kmeans.labels_\n",
    "cluster_centers = kmeans.cluster_centers_"
   ]
  },
  {
   "cell_type": "code",
   "execution_count": 12,
   "metadata": {},
   "outputs": [],
   "source": [
    "cluster_data = {}\n",
    "\n",
    "# Iterate over the data points and their corresponding labels\n",
    "for i, label in enumerate(labels):\n",
    "    if label not in cluster_data:\n",
    "        cluster_data[label] = []\n",
    "    cluster_data[label].append(data[i])\n",
    "\n",
    "cluster_data = {\n",
    "    label: np.array(data) for label, data in cluster_data.items()\n",
    "}"
   ]
  },
  {
   "cell_type": "code",
   "execution_count": 13,
   "metadata": {},
   "outputs": [
    {
     "name": "stdout",
     "output_type": "stream",
     "text": [
      "Cluster 0: (8596, 50)\n",
      "Cluster 1: (6449, 50)\n",
      "Cluster 4: (9661, 50)\n",
      "Cluster 3: (9933, 50)\n",
      "Cluster 2: (10360, 50)\n"
     ]
    }
   ],
   "source": [
    "# print shape of each cluster\n",
    "for label, data in cluster_data.items():\n",
    "    print(f'Cluster {label}: {data.shape}')\n",
    "    "
   ]
  },
  {
   "cell_type": "code",
   "execution_count": 14,
   "metadata": {},
   "outputs": [],
   "source": [
    "# pickel model and save it\n",
    "model_path = os.path.join(model_dir, 'kmeans_model.pkl')\n",
    "with open(model_path, 'wb') as file:\n",
    "    pickle.dump(kmeans, file)\n",
    "\n",
    "# save cluster centers as npy file\n",
    "cluster_centers_path = os.path.join(model_dir, 'cluster_centers.npy')\n",
    "np.save(cluster_centers_path, cluster_centers)\n",
    "\n",
    "# save labels as npy file\n",
    "labels_path = os.path.join(model_dir, 'labels.npy')\n",
    "np.save(labels_path, labels)"
   ]
  },
  {
   "cell_type": "code",
   "execution_count": null,
   "metadata": {},
   "outputs": [],
   "source": []
  }
 ],
 "metadata": {
  "kernelspec": {
   "display_name": "Python 3",
   "language": "python",
   "name": "python3"
  },
  "language_info": {
   "codemirror_mode": {
    "name": "ipython",
    "version": 3
   },
   "file_extension": ".py",
   "mimetype": "text/x-python",
   "name": "python",
   "nbconvert_exporter": "python",
   "pygments_lexer": "ipython3",
   "version": "3.10.6"
  },
  "orig_nbformat": 4
 },
 "nbformat": 4,
 "nbformat_minor": 2
}
