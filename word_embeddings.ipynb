{
 "cells": [
  {
   "attachments": {},
   "cell_type": "markdown",
   "metadata": {},
   "source": [
    "## Word embeddings of the data"
   ]
  },
  {
   "cell_type": "code",
   "execution_count": 1,
   "metadata": {},
   "outputs": [],
   "source": [
    "import os\n",
    "\n",
    "import gensim\n",
    "from nltk import download\n",
    "from nltk.corpus import stopwords\n",
    "from nltk.tokenize import word_tokenize\n",
    "import numpy as np\n",
    "import pandas as pd\n",
    "\n",
    "from topicViz.textinjupyter import markdown_scape_chars\n",
    "from topicViz.embedding import NLPProcessor"
   ]
  },
  {
   "cell_type": "code",
   "execution_count": 2,
   "metadata": {},
   "outputs": [],
   "source": [
    "data_directory = '/home/edgar/topic-visualization/data'\n",
    "model_path = f'{data_directory}/SO_vectors_200.bin'"
   ]
  },
  {
   "cell_type": "code",
   "execution_count": 3,
   "metadata": {},
   "outputs": [
    {
     "name": "stdout",
     "output_type": "stream",
     "text": [
      "Models already downloaded.\n"
     ]
    }
   ],
   "source": [
    "# download and load NLP model\n",
    "if not os.path.exists(model_path):\n",
    "    print('Downloading models...')\n",
    "    \n",
    "    !wget -O /home/edgar/topic-visualization/data/SO_vectors_200.bin https://zenodo.org/record/1199620/files/SO_vectors_200.bin?download=1\n",
    "\n",
    "    print('Models downloaded.')\n",
    "\n",
    "else:\n",
    "\n",
    "    print('Models already downloaded.')\n"
   ]
  },
  {
   "cell_type": "code",
   "execution_count": 4,
   "metadata": {},
   "outputs": [],
   "source": [
    "# load model\n",
    "model = gensim.models.KeyedVectors.load_word2vec_format(\n",
    "    model_path,\n",
    "    binary=True,\n",
    ")"
   ]
  },
  {
   "cell_type": "code",
   "execution_count": 5,
   "metadata": {},
   "outputs": [
    {
     "name": "stderr",
     "output_type": "stream",
     "text": [
      "[nltk_data] Downloading package punkt to /home/edgar/nltk_data...\n",
      "[nltk_data]   Package punkt is already up-to-date!\n",
      "[nltk_data] Downloading package stopwords to /home/edgar/nltk_data...\n",
      "[nltk_data]   Package stopwords is already up-to-date!\n"
     ]
    }
   ],
   "source": [
    "# set resources for NLTK\n",
    "download('punkt')\n",
    "download('stopwords')\n",
    "stop_words = stopwords.words('english')"
   ]
  },
  {
   "cell_type": "code",
   "execution_count": 6,
   "metadata": {},
   "outputs": [],
   "source": [
    "# load data\n",
    "html_clean_df = pd.read_csv(\n",
    "    \"data/html_clean.csv\",\n",
    "    index_col='Id',\n",
    ")\n",
    "\n",
    "text_html_clean_df = pd.read_csv(\n",
    "    \"data/text_html_clean.csv\",\n",
    "    index_col='Id',\n",
    ")"
   ]
  },
  {
   "cell_type": "code",
   "execution_count": 7,
   "metadata": {},
   "outputs": [],
   "source": [
    "# html_clean_df.head()"
   ]
  },
  {
   "attachments": {},
   "cell_type": "markdown",
   "metadata": {},
   "source": [
    "### NLTK preprocessing"
   ]
  },
  {
   "cell_type": "code",
   "execution_count": 8,
   "metadata": {},
   "outputs": [],
   "source": [
    "nltk_processor = NLPProcessor()"
   ]
  },
  {
   "cell_type": "code",
   "execution_count": 9,
   "metadata": {},
   "outputs": [],
   "source": [
    "# text: title + body\n",
    "html_clean_df['post'] = (\n",
    "    html_clean_df['title'] + ' ' + html_clean_df['body']\n",
    ")\n",
    "\n",
    "text_html_clean_df['post'] = (\n",
    "    text_html_clean_df['title'] + ' ' + text_html_clean_df['body']\n",
    ")\n",
    "\n",
    "# drop nan values from post column\n",
    "html_clean_df.dropna(subset=['post'], inplace=True)\n",
    "text_html_clean_df.dropna(subset=['post'], inplace=True)"
   ]
  },
  {
   "cell_type": "code",
   "execution_count": 10,
   "metadata": {},
   "outputs": [],
   "source": [
    "# n_row = 26052\n",
    "# text_row = html_clean_df.iloc[n_row]['post']\n",
    "# tokenized_row = nltk_processor.tokenize(text_row)\n",
    "# no_stopwords_row = nltk_processor.remove_stopwords(\n",
    "#     tokenized_text=tokenized_row,\n",
    "#     stopwords=stop_words\n",
    "# )\n",
    "\n",
    "# markdown_scape_chars(text_row)\n",
    "# print(len(tokenized_row))\n",
    "# markdown_scape_chars(tokenized_row)\n",
    "# print(len(no_stopwords_row))\n",
    "# markdown_scape_chars(no_stopwords_row)\n",
    "\n",
    "# print('#'*70)\n",
    "# text_row = text_html_clean_df.iloc[n_row]['post']\n",
    "# tokenized_row = nltk_processor.tokenize(text_row)\n",
    "# no_stopwords_row = nltk_processor.remove_stopwords(\n",
    "#     tokenized_text=tokenized_row,\n",
    "#     stopwords=stop_words\n",
    "# )\n",
    "\n",
    "# markdown_scape_chars(text_row)\n",
    "# print(len(tokenized_row))\n",
    "# markdown_scape_chars(tokenized_row)\n",
    "# print(len(no_stopwords_row))\n",
    "# markdown_scape_chars(no_stopwords_row)"
   ]
  },
  {
   "cell_type": "code",
   "execution_count": 11,
   "metadata": {},
   "outputs": [],
   "source": [
    "# tokenize and remove stopwords from post column\n",
    "\n",
    "html_clean_df['tokenizedPost'] = html_clean_df['post'].apply(\n",
    "    nltk_processor.tokenize\n",
    ")\n",
    "\n",
    "html_clean_df['noStopWordsTokenizedPost'] = (\n",
    "    html_clean_df['tokenizedPost'].apply(\n",
    "        nltk_processor.remove_stopwords,\n",
    "        stopwords=stop_words\n",
    "    )\n",
    ")"
   ]
  },
  {
   "cell_type": "code",
   "execution_count": 12,
   "metadata": {},
   "outputs": [
    {
     "data": {
      "text/plain": [
       "(44999, 8)"
      ]
     },
     "execution_count": 12,
     "metadata": {},
     "output_type": "execute_result"
    }
   ],
   "source": [
    "html_clean_df.shape"
   ]
  },
  {
   "cell_type": "code",
   "execution_count": 13,
   "metadata": {},
   "outputs": [],
   "source": [
    "text_html_clean_df['tokenizedPost'] = (\n",
    "    text_html_clean_df['post'].apply(\n",
    "        nltk_processor.tokenize\n",
    "    )\n",
    ")\n",
    "\n",
    "text_html_clean_df['noSopWordsTokenizedPost'] = (\n",
    "    text_html_clean_df['tokenizedPost'].apply(\n",
    "        nltk_processor.remove_stopwords, stopwords=stop_words\n",
    "    )\n",
    ")"
   ]
  },
  {
   "cell_type": "code",
   "execution_count": 14,
   "metadata": {},
   "outputs": [
    {
     "data": {
      "text/plain": [
       "(44999, 8)"
      ]
     },
     "execution_count": 14,
     "metadata": {},
     "output_type": "execute_result"
    }
   ],
   "source": [
    "text_html_clean_df.shape"
   ]
  },
  {
   "attachments": {},
   "cell_type": "markdown",
   "metadata": {},
   "source": [
    "### Vector representatin"
   ]
  },
  {
   "cell_type": "code",
   "execution_count": 15,
   "metadata": {},
   "outputs": [
    {
     "data": {
      "text/plain": [
       "(44999, 200)"
      ]
     },
     "execution_count": 15,
     "metadata": {},
     "output_type": "execute_result"
    }
   ],
   "source": [
    "# # vector representation of post column\n",
    "# n_row = html_clean_df.shape[0]\n",
    "# n_col = 200 # gensim model dimensionality\n",
    "\n",
    "# embedding_html_clean = np.empty((n_row, n_col))\n",
    "# embedding_text_html_clean = np.empty((n_row, n_col))\n",
    "\n",
    "embedding_html_clean = np.stack(\n",
    "    html_clean_df['noStopWordsTokenizedPost'].apply(\n",
    "        model.get_mean_vector,\n",
    "    )\n",
    ")\n",
    "np.save('data/embedding_html_clean.npy', embedding_html_clean)\n",
    "np.save(\n",
    "    'data/index_embedding_html_clean.npy',\n",
    "    html_clean_df.index.values\n",
    ")\n",
    "embedding_html_clean.shape\n"
   ]
  },
  {
   "cell_type": "code",
   "execution_count": 16,
   "metadata": {},
   "outputs": [
    {
     "data": {
      "text/plain": [
       "(44999, 200)"
      ]
     },
     "execution_count": 16,
     "metadata": {},
     "output_type": "execute_result"
    }
   ],
   "source": [
    "embedding_text_html_clean = np.stack(\n",
    "    text_html_clean_df['noSopWordsTokenizedPost'].apply(\n",
    "        model.get_mean_vector,\n",
    "    )\n",
    ")\n",
    "\n",
    "np.save(\n",
    "    'data/embedding_text_html_clean.npy',\n",
    "    embedding_text_html_clean\n",
    ")\n",
    "np.save(\n",
    "    'data/index_embedding_text_html_clean.npy',\n",
    "    text_html_clean_df.index.values\n",
    ")\n",
    "embedding_text_html_clean.shape"
   ]
  },
  {
   "cell_type": "code",
   "execution_count": null,
   "metadata": {},
   "outputs": [],
   "source": []
  }
 ],
 "metadata": {
  "kernelspec": {
   "display_name": "Python 3",
   "language": "python",
   "name": "python3"
  },
  "language_info": {
   "codemirror_mode": {
    "name": "ipython",
    "version": 3
   },
   "file_extension": ".py",
   "mimetype": "text/x-python",
   "name": "python",
   "nbconvert_exporter": "python",
   "pygments_lexer": "ipython3",
   "version": "3.10.6"
  },
  "orig_nbformat": 4
 },
 "nbformat": 4,
 "nbformat_minor": 2
}
