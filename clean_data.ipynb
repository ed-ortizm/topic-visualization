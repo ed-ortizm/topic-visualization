{
 "cells": [
  {
   "attachments": {},
   "cell_type": "markdown",
   "metadata": {},
   "source": [
    "### Add description of the dataset\n",
    "for instance a way to download it from kaggle"
   ]
  },
  {
   "cell_type": "code",
   "execution_count": 1,
   "metadata": {},
   "outputs": [],
   "source": [
    "import pandas as pd\n",
    "\n",
    "from topicViz.clean import HTMLCleaner\n",
    "from topicViz.clean import TextProcessor\n",
    "from topicViz.textinjupyter import markdown_scape_chars"
   ]
  },
  {
   "cell_type": "code",
   "execution_count": 2,
   "metadata": {},
   "outputs": [],
   "source": [
    "data_df = pd.read_csv('data/train.csv', index_col='Id')\n",
    "data_df.columns = [column.lower() for column in data_df.columns]\n",
    "# data_df.head()"
   ]
  },
  {
   "cell_type": "code",
   "execution_count": 3,
   "metadata": {},
   "outputs": [
    {
     "name": "stdout",
     "output_type": "stream",
     "text": [
      "title                      Java: Repeat Task Every Random Seconds\n",
      "body            <p>I'm already familiar with repeating tasks e...\n",
      "tags                                               <java><repeat>\n",
      "creationdate                                  2016-01-01 00:21:59\n",
      "y                                                        LQ_CLOSE\n",
      "Name: 34552656, dtype: object\n",
      "############################################################\n"
     ]
    },
    {
     "data": {
      "text/markdown": [
       "```\n",
       "'<p>I am new to Ubuntu (Linux tbh). I encountered problem with starting MongoDB service. I want to created web app using Ruby on Rails and MongoDB but mongo seems to fail to start.</p>\\n\\n<p>I followed this <a href=\"https://docs.mongodb.org/v3.0/tutorial/install-mongodb-on-ubuntu/\">MongoDB installation on Ubuntu</a> all of installation went without problems until I got to <code>sudo service mongod start</code> </p>\\n\\n<p><strong>mongod.log</strong></p>\\n\\n<pre><code>2016-01-01T10:58:15.545+0000 I CONTROL  ***** SERVER RESTARTED *****\\n2016-01-01T10:58:15.548+0000 I CONTROL  [initandlisten] MongoDB starting : pid=3868 port=27017 dbpath=/var/lib/mongodb 64-bit host=damian-CX61-0NC-CX61-0ND-CX61-0NF-CX61-0NE\\n2016-01-01T10:58:15.548+0000 I CONTROL  [initandlisten] db version v3.0.8\\n2016-01-01T10:58:15.548+0000 I CONTROL  [initandlisten] git version: 83d8cc25e00e42856924d84e220fbe4a839e605d\\n2016-01-01T10:58:15.548+0000 I CONTROL  [initandlisten] build info: Linux ip-10-187-89-126 3.13.0-24-generic #46-Ubuntu SMP Thu Apr 10 19:11:08 UTC 2014 x86_64 BOOST_LIB_VERSION=1_49\\n2016-01-01T10:58:15.548+0000 I CONTROL  [initandlisten] allocator: tcmalloc\\n2016-01-01T10:58:15.548+0000 I CONTROL  [initandlisten] options: { config: \"/etc/mongod.conf\", net: { bindIp: \"127.0.0.1\", port: 27017 }, storage: { dbPath: \"/var/lib/mongodb\", journal: { enabled: true } }, systemLog: { destination: \"file\", logAppend: true, path: \"/var/log/mongodb/mongod.log\" } }\\n2016-01-01T10:58:15.567+0000 E NETWORK  [initandlisten] Failed to unlink socket file /tmp/mongodb-27017.sock errno:1 Operation not permitted\\n2016-01-01T10:58:15.567+0000 I -        [initandlisten] Fatal Assertion 28578\\n2016-01-01T10:58:15.567+0000 I -        [initandlisten] \\n\\n***aborting after fassert() failure\\n</code></pre>\\n\\n<p>So what I am doing wrong or its different issue?</p>\\n'\n",
       "```"
      ],
      "text/plain": [
       "<IPython.core.display.Markdown object>"
      ]
     },
     "metadata": {},
     "output_type": "display_data"
    }
   ],
   "source": [
    "# sample row from the data\n",
    "n_row = 10\n",
    "print(data_df.iloc[0])\n",
    "print('#'*60)\n",
    "row_body = data_df.iloc[n_row]['body']\n",
    "markdown_scape_chars(row_body)"
   ]
  },
  {
   "attachments": {},
   "cell_type": "markdown",
   "metadata": {},
   "source": [
    "#### Remove HTML from posts"
   ]
  },
  {
   "cell_type": "code",
   "execution_count": 4,
   "metadata": {},
   "outputs": [],
   "source": [
    "# instantiate cleaner\n",
    "cleaner = HTMLCleaner()\n",
    "html_cleaned_df = data_df.copy()"
   ]
  },
  {
   "cell_type": "code",
   "execution_count": 5,
   "metadata": {},
   "outputs": [
    {
     "name": "stderr",
     "output_type": "stream",
     "text": [
      "/home/edgar/gdrive/career/portfolio/topic-visualization/src/topicViz/clean.py:218: MarkupResemblesLocatorWarning: The input looks more like a filename than markup. You may want to open this file and pass the filehandle into Beautiful Soup.\n",
      "  soup = BeautifulSoup(html_text, 'html.parser')\n",
      "/home/edgar/.local/lib/python3.10/site-packages/bs4/builder/__init__.py:545: XMLParsedAsHTMLWarning: It looks like you're parsing an XML document using an HTML parser. If this really is an HTML document (maybe it's XHTML?), you can ignore or filter this warning. If it's XML, you should know that using an XML parser will be more reliable. To parse this document as XML, make sure you have the lxml package installed, and pass the keyword argument `features=\"xml\"` into the BeautifulSoup constructor.\n",
      "  warnings.warn(\n"
     ]
    }
   ],
   "source": [
    "# clean the body column\n",
    "html_cleaned_df['body'] = html_cleaned_df['body'].apply(\n",
    "    cleaner.remove_preformatted_text\n",
    ")\n",
    "\n",
    "html_cleaned_df['body'] = html_cleaned_df['body'].apply(\n",
    "    cleaner.remove_code_blocks\n",
    ")\n",
    "\n",
    "html_cleaned_df['body'] = html_cleaned_df['body'].apply(\n",
    "    cleaner.remove_hyperlinks\n",
    ")\n",
    "\n",
    "html_cleaned_df['body'] = html_cleaned_df['body'].apply(\n",
    "    cleaner.clean_html\n",
    ")"
   ]
  },
  {
   "cell_type": "code",
   "execution_count": 6,
   "metadata": {},
   "outputs": [],
   "source": [
    "# clean the tags column\n",
    "html_cleaned_df['tags'] = html_cleaned_df['tags'].apply(\n",
    "    cleaner.clean_html\n",
    ")"
   ]
  },
  {
   "cell_type": "code",
   "execution_count": 7,
   "metadata": {},
   "outputs": [
    {
     "data": {
      "text/markdown": [
       "```\n",
       "'<p>I am new to Ubuntu (Linux tbh). I encountered problem with starting MongoDB service. I want to created web app using Ruby on Rails and MongoDB but mongo seems to fail to start.</p>\\n\\n<p>I followed this <a href=\"https://docs.mongodb.org/v3.0/tutorial/install-mongodb-on-ubuntu/\">MongoDB installation on Ubuntu</a> all of installation went without problems until I got to <code>sudo service mongod start</code> </p>\\n\\n<p><strong>mongod.log</strong></p>\\n\\n<pre><code>2016-01-01T10:58:15.545+0000 I CONTROL  ***** SERVER RESTARTED *****\\n2016-01-01T10:58:15.548+0000 I CONTROL  [initandlisten] MongoDB starting : pid=3868 port=27017 dbpath=/var/lib/mongodb 64-bit host=damian-CX61-0NC-CX61-0ND-CX61-0NF-CX61-0NE\\n2016-01-01T10:58:15.548+0000 I CONTROL  [initandlisten] db version v3.0.8\\n2016-01-01T10:58:15.548+0000 I CONTROL  [initandlisten] git version: 83d8cc25e00e42856924d84e220fbe4a839e605d\\n2016-01-01T10:58:15.548+0000 I CONTROL  [initandlisten] build info: Linux ip-10-187-89-126 3.13.0-24-generic #46-Ubuntu SMP Thu Apr 10 19:11:08 UTC 2014 x86_64 BOOST_LIB_VERSION=1_49\\n2016-01-01T10:58:15.548+0000 I CONTROL  [initandlisten] allocator: tcmalloc\\n2016-01-01T10:58:15.548+0000 I CONTROL  [initandlisten] options: { config: \"/etc/mongod.conf\", net: { bindIp: \"127.0.0.1\", port: 27017 }, storage: { dbPath: \"/var/lib/mongodb\", journal: { enabled: true } }, systemLog: { destination: \"file\", logAppend: true, path: \"/var/log/mongodb/mongod.log\" } }\\n2016-01-01T10:58:15.567+0000 E NETWORK  [initandlisten] Failed to unlink socket file /tmp/mongodb-27017.sock errno:1 Operation not permitted\\n2016-01-01T10:58:15.567+0000 I -        [initandlisten] Fatal Assertion 28578\\n2016-01-01T10:58:15.567+0000 I -        [initandlisten] \\n\\n***aborting after fassert() failure\\n</code></pre>\\n\\n<p>So what I am doing wrong or its different issue?</p>\\n'\n",
       "```"
      ],
      "text/plain": [
       "<IPython.core.display.Markdown object>"
      ]
     },
     "metadata": {},
     "output_type": "display_data"
    },
    {
     "name": "stdout",
     "output_type": "stream",
     "text": [
      "############################################################\n"
     ]
    },
    {
     "data": {
      "text/markdown": [
       "```\n",
       "'I am new to Ubuntu (Linux tbh). I encountered problem with starting MongoDB service. I want to created web app using Ruby on Rails and MongoDB but mongo seems to fail to start.\\nI followed this  all of installation went without problems until I got to  \\nmongod.log\\nSo what I am doing wrong or its different issue?\\n'\n",
       "```"
      ],
      "text/plain": [
       "<IPython.core.display.Markdown object>"
      ]
     },
     "metadata": {},
     "output_type": "display_data"
    }
   ],
   "source": [
    "n_row = 10\n",
    "row_body = data_df.iloc[n_row]['body']\n",
    "markdown_scape_chars(row_body)\n",
    "print('#'*60)\n",
    "row_body = html_cleaned_df.iloc[n_row]['body']\n",
    "markdown_scape_chars(row_body)\n"
   ]
  },
  {
   "attachments": {},
   "cell_type": "markdown",
   "metadata": {},
   "source": [
    "### Check special rows"
   ]
  },
  {
   "cell_type": "code",
   "execution_count": 8,
   "metadata": {},
   "outputs": [],
   "source": [
    "# not clear why these rows are special??\n",
    "# i = 4\n",
    "# special_rows = [8166, 8778, 24599, 32425]\n",
    "# n_row = special_rows[i]\n",
    "\n",
    "# row_body = data_cleaned_df.iloc[n_row]['body']\n",
    "# markdown_scape_chars(row_body)"
   ]
  },
  {
   "cell_type": "code",
   "execution_count": null,
   "metadata": {},
   "outputs": [],
   "source": []
  },
  {
   "attachments": {},
   "cell_type": "markdown",
   "metadata": {},
   "source": [
    "#### Clean text"
   ]
  },
  {
   "cell_type": "code",
   "execution_count": 9,
   "metadata": {},
   "outputs": [],
   "source": [
    "# instantiate text processor\n",
    "text_processor = TextProcessor()\n",
    "text_cleaned_df = html_cleaned_df.copy()"
   ]
  },
  {
   "cell_type": "code",
   "execution_count": 10,
   "metadata": {},
   "outputs": [],
   "source": [
    "# clean the body column\n",
    "text_cleaned_df['body'] = text_cleaned_df['body'].apply(\n",
    "    text_processor.replace_newlines\n",
    ")\n",
    "\n",
    "text_cleaned_df['body'] = text_cleaned_df['body'].apply(\n",
    "    text_processor.to_lowercase\n",
    ")\n",
    "\n",
    "text_cleaned_df['body'] = text_cleaned_df['body'].apply(\n",
    "    text_processor.replace_dash_quotes\n",
    ")\n",
    "\n",
    "text_cleaned_df['body'] = text_cleaned_df['body'].apply(\n",
    "    text_processor.replace_marks\n",
    ")\n",
    "\n",
    "text_cleaned_df['body'] = text_cleaned_df['body'].apply(\n",
    "    text_processor.replace_punctuation\n",
    ")"
   ]
  },
  {
   "cell_type": "code",
   "execution_count": 11,
   "metadata": {},
   "outputs": [
    {
     "data": {
      "text/markdown": [
       "```\n",
       "'<p>I am new to Ubuntu (Linux tbh). I encountered problem with starting MongoDB service. I want to created web app using Ruby on Rails and MongoDB but mongo seems to fail to start.</p>\\n\\n<p>I followed this <a href=\"https://docs.mongodb.org/v3.0/tutorial/install-mongodb-on-ubuntu/\">MongoDB installation on Ubuntu</a> all of installation went without problems until I got to <code>sudo service mongod start</code> </p>\\n\\n<p><strong>mongod.log</strong></p>\\n\\n<pre><code>2016-01-01T10:58:15.545+0000 I CONTROL  ***** SERVER RESTARTED *****\\n2016-01-01T10:58:15.548+0000 I CONTROL  [initandlisten] MongoDB starting : pid=3868 port=27017 dbpath=/var/lib/mongodb 64-bit host=damian-CX61-0NC-CX61-0ND-CX61-0NF-CX61-0NE\\n2016-01-01T10:58:15.548+0000 I CONTROL  [initandlisten] db version v3.0.8\\n2016-01-01T10:58:15.548+0000 I CONTROL  [initandlisten] git version: 83d8cc25e00e42856924d84e220fbe4a839e605d\\n2016-01-01T10:58:15.548+0000 I CONTROL  [initandlisten] build info: Linux ip-10-187-89-126 3.13.0-24-generic #46-Ubuntu SMP Thu Apr 10 19:11:08 UTC 2014 x86_64 BOOST_LIB_VERSION=1_49\\n2016-01-01T10:58:15.548+0000 I CONTROL  [initandlisten] allocator: tcmalloc\\n2016-01-01T10:58:15.548+0000 I CONTROL  [initandlisten] options: { config: \"/etc/mongod.conf\", net: { bindIp: \"127.0.0.1\", port: 27017 }, storage: { dbPath: \"/var/lib/mongodb\", journal: { enabled: true } }, systemLog: { destination: \"file\", logAppend: true, path: \"/var/log/mongodb/mongod.log\" } }\\n2016-01-01T10:58:15.567+0000 E NETWORK  [initandlisten] Failed to unlink socket file /tmp/mongodb-27017.sock errno:1 Operation not permitted\\n2016-01-01T10:58:15.567+0000 I -        [initandlisten] Fatal Assertion 28578\\n2016-01-01T10:58:15.567+0000 I -        [initandlisten] \\n\\n***aborting after fassert() failure\\n</code></pre>\\n\\n<p>So what I am doing wrong or its different issue?</p>\\n'\n",
       "```"
      ],
      "text/plain": [
       "<IPython.core.display.Markdown object>"
      ]
     },
     "metadata": {},
     "output_type": "display_data"
    },
    {
     "name": "stdout",
     "output_type": "stream",
     "text": [
      "############################################################\n"
     ]
    },
    {
     "data": {
      "text/markdown": [
       "```\n",
       "'I am new to Ubuntu (Linux tbh). I encountered problem with starting MongoDB service. I want to created web app using Ruby on Rails and MongoDB but mongo seems to fail to start.\\nI followed this  all of installation went without problems until I got to  \\nmongod.log\\nSo what I am doing wrong or its different issue?\\n'\n",
       "```"
      ],
      "text/plain": [
       "<IPython.core.display.Markdown object>"
      ]
     },
     "metadata": {},
     "output_type": "display_data"
    },
    {
     "name": "stdout",
     "output_type": "stream",
     "text": [
      "############################################################\n"
     ]
    },
    {
     "data": {
      "text/markdown": [
       "```\n",
       "'i am new to ubuntu  linux tbh   i encountered problem with starting mongodb service  i want to created web app using ruby on rails and mongodb but mongo seems to fail to start  i followed this all of installation went without problems until i got to mongod log so what i am doing wrong or its different issue  '\n",
       "```"
      ],
      "text/plain": [
       "<IPython.core.display.Markdown object>"
      ]
     },
     "metadata": {},
     "output_type": "display_data"
    }
   ],
   "source": [
    "n_row = 10\n",
    "\n",
    "row_body = data_df.iloc[n_row]['body']\n",
    "markdown_scape_chars(row_body)\n",
    "\n",
    "print('#'*60)\n",
    "\n",
    "row_body = html_cleaned_df.iloc[n_row]['body']\n",
    "markdown_scape_chars(row_body)\n",
    "\n",
    "print('#'*60)\n",
    "\n",
    "row_body = text_cleaned_df.iloc[n_row]['body']\n",
    "markdown_scape_chars(row_body)\n"
   ]
  },
  {
   "attachments": {},
   "cell_type": "markdown",
   "metadata": {},
   "source": [
    "### Save cleaned data"
   ]
  },
  {
   "cell_type": "code",
   "execution_count": 13,
   "metadata": {},
   "outputs": [],
   "source": [
    "html_cleaned_df.to_csv('data/html_clean.csv')\n",
    "text_cleaned_df.to_csv('data/text_html_clean.csv')"
   ]
  },
  {
   "cell_type": "code",
   "execution_count": 14,
   "metadata": {},
   "outputs": [
    {
     "data": {
      "text/plain": [
       "Index(['title', 'body', 'tags', 'creationdate', 'y'], dtype='object')"
      ]
     },
     "execution_count": 14,
     "metadata": {},
     "output_type": "execute_result"
    }
   ],
   "source": [
    "html_cleaned_df.columns"
   ]
  },
  {
   "cell_type": "code",
   "execution_count": null,
   "metadata": {},
   "outputs": [],
   "source": []
  }
 ],
 "metadata": {
  "kernelspec": {
   "display_name": "Python 3",
   "language": "python",
   "name": "python3"
  },
  "language_info": {
   "codemirror_mode": {
    "name": "ipython",
    "version": 3
   },
   "file_extension": ".py",
   "mimetype": "text/x-python",
   "name": "python",
   "nbconvert_exporter": "python",
   "pygments_lexer": "ipython3",
   "version": "3.10.6"
  },
  "orig_nbformat": 4
 },
 "nbformat": 4,
 "nbformat_minor": 2
}
