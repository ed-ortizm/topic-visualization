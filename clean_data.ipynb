{
 "cells": [
  {
   "attachments": {},
   "cell_type": "markdown",
   "metadata": {},
   "source": [
    "### Add description of the dataset\n",
    "for instance a way to download it from kaggle"
   ]
  },
  {
   "cell_type": "code",
   "execution_count": 1,
   "metadata": {},
   "outputs": [],
   "source": [
    "import re\n",
    "\n",
    "from bs4 import BeautifulSoup\n",
    "import numpy as np\n",
    "import pandas as pd"
   ]
  },
  {
   "cell_type": "code",
   "execution_count": 10,
   "metadata": {},
   "outputs": [
    {
     "name": "stdout",
     "output_type": "stream",
     "text": [
      "Index(['Title', 'Body', 'Tags', 'CreationDate', 'Y'], dtype='object') (45000, 5)\n"
     ]
    },
    {
     "data": {
      "text/html": [
       "<div>\n",
       "<style scoped>\n",
       "    .dataframe tbody tr th:only-of-type {\n",
       "        vertical-align: middle;\n",
       "    }\n",
       "\n",
       "    .dataframe tbody tr th {\n",
       "        vertical-align: top;\n",
       "    }\n",
       "\n",
       "    .dataframe thead th {\n",
       "        text-align: right;\n",
       "    }\n",
       "</style>\n",
       "<table border=\"1\" class=\"dataframe\">\n",
       "  <thead>\n",
       "    <tr style=\"text-align: right;\">\n",
       "      <th></th>\n",
       "      <th>Title</th>\n",
       "      <th>Body</th>\n",
       "      <th>Tags</th>\n",
       "      <th>CreationDate</th>\n",
       "      <th>Y</th>\n",
       "    </tr>\n",
       "    <tr>\n",
       "      <th>Id</th>\n",
       "      <th></th>\n",
       "      <th></th>\n",
       "      <th></th>\n",
       "      <th></th>\n",
       "      <th></th>\n",
       "    </tr>\n",
       "  </thead>\n",
       "  <tbody>\n",
       "    <tr>\n",
       "      <th>34552656</th>\n",
       "      <td>Java: Repeat Task Every Random Seconds</td>\n",
       "      <td>&lt;p&gt;I'm already familiar with repeating tasks e...</td>\n",
       "      <td>&lt;java&gt;&lt;repeat&gt;</td>\n",
       "      <td>2016-01-01 00:21:59</td>\n",
       "      <td>LQ_CLOSE</td>\n",
       "    </tr>\n",
       "    <tr>\n",
       "      <th>34553034</th>\n",
       "      <td>Why are Java Optionals immutable?</td>\n",
       "      <td>&lt;p&gt;I'd like to understand why Java 8 Optionals...</td>\n",
       "      <td>&lt;java&gt;&lt;optional&gt;</td>\n",
       "      <td>2016-01-01 02:03:20</td>\n",
       "      <td>HQ</td>\n",
       "    </tr>\n",
       "    <tr>\n",
       "      <th>34553174</th>\n",
       "      <td>Text Overlay Image with Darkened Opacity React...</td>\n",
       "      <td>&lt;p&gt;I am attempting to overlay a title over an ...</td>\n",
       "      <td>&lt;javascript&gt;&lt;image&gt;&lt;overlay&gt;&lt;react-native&gt;&lt;opa...</td>\n",
       "      <td>2016-01-01 02:48:24</td>\n",
       "      <td>HQ</td>\n",
       "    </tr>\n",
       "    <tr>\n",
       "      <th>34553318</th>\n",
       "      <td>Why ternary operator in swift is so picky?</td>\n",
       "      <td>&lt;p&gt;The question is very simple, but I just cou...</td>\n",
       "      <td>&lt;swift&gt;&lt;operators&gt;&lt;whitespace&gt;&lt;ternary-operato...</td>\n",
       "      <td>2016-01-01 03:30:17</td>\n",
       "      <td>HQ</td>\n",
       "    </tr>\n",
       "    <tr>\n",
       "      <th>34553755</th>\n",
       "      <td>hide/show fab with scale animation</td>\n",
       "      <td>&lt;p&gt;I'm using custom floatingactionmenu. I need...</td>\n",
       "      <td>&lt;android&gt;&lt;material-design&gt;&lt;floating-action-but...</td>\n",
       "      <td>2016-01-01 05:21:48</td>\n",
       "      <td>HQ</td>\n",
       "    </tr>\n",
       "  </tbody>\n",
       "</table>\n",
       "</div>"
      ],
      "text/plain": [
       "                                                      Title  \\\n",
       "Id                                                            \n",
       "34552656             Java: Repeat Task Every Random Seconds   \n",
       "34553034                  Why are Java Optionals immutable?   \n",
       "34553174  Text Overlay Image with Darkened Opacity React...   \n",
       "34553318         Why ternary operator in swift is so picky?   \n",
       "34553755                 hide/show fab with scale animation   \n",
       "\n",
       "                                                       Body  \\\n",
       "Id                                                            \n",
       "34552656  <p>I'm already familiar with repeating tasks e...   \n",
       "34553034  <p>I'd like to understand why Java 8 Optionals...   \n",
       "34553174  <p>I am attempting to overlay a title over an ...   \n",
       "34553318  <p>The question is very simple, but I just cou...   \n",
       "34553755  <p>I'm using custom floatingactionmenu. I need...   \n",
       "\n",
       "                                                       Tags  \\\n",
       "Id                                                            \n",
       "34552656                                     <java><repeat>   \n",
       "34553034                                   <java><optional>   \n",
       "34553174  <javascript><image><overlay><react-native><opa...   \n",
       "34553318  <swift><operators><whitespace><ternary-operato...   \n",
       "34553755  <android><material-design><floating-action-but...   \n",
       "\n",
       "                 CreationDate         Y  \n",
       "Id                                       \n",
       "34552656  2016-01-01 00:21:59  LQ_CLOSE  \n",
       "34553034  2016-01-01 02:03:20        HQ  \n",
       "34553174  2016-01-01 02:48:24        HQ  \n",
       "34553318  2016-01-01 03:30:17        HQ  \n",
       "34553755  2016-01-01 05:21:48        HQ  "
      ]
     },
     "execution_count": 10,
     "metadata": {},
     "output_type": "execute_result"
    }
   ],
   "source": [
    "data_df = pd.read_csv('data/train.csv', index_col='Id')\n",
    "print(data_df.columns, data_df.shape)\n",
    "data_df.head()"
   ]
  },
  {
   "cell_type": "code",
   "execution_count": 4,
   "metadata": {},
   "outputs": [
    {
     "name": "stdout",
     "output_type": "stream",
     "text": [
      "Title                      Java: Repeat Task Every Random Seconds\n",
      "Body            <p>I'm already familiar with repeating tasks e...\n",
      "Tags                                               <java><repeat>\n",
      "CreationDate                                  2016-01-01 00:21:59\n",
      "Y                                                        LQ_CLOSE\n",
      "Name: 34552656, dtype: object\n"
     ]
    }
   ],
   "source": [
    "print(data_df.iloc[0])\n",
    "# data_df['Body'].iloc[0]"
   ]
  },
  {
   "cell_type": "code",
   "execution_count": 7,
   "metadata": {},
   "outputs": [],
   "source": [
    "with_pre_tag = []\n",
    "\n",
    "for post in data_df['Body']:\n",
    "\n",
    "    if '<pre>' in post:\n",
    "        with_pre_tag.append(post)\n"
   ]
  },
  {
   "cell_type": "code",
   "execution_count": 9,
   "metadata": {},
   "outputs": [
    {
     "data": {
      "text/plain": [
       "17344"
      ]
     },
     "execution_count": 9,
     "metadata": {},
     "output_type": "execute_result"
    }
   ],
   "source": [
    "len(with_pre_tag)"
   ]
  },
  {
   "cell_type": "code",
   "execution_count": 11,
   "metadata": {},
   "outputs": [
    {
     "ename": "ModuleNotFoundError",
     "evalue": "No module named 'topicViz'",
     "output_type": "error",
     "traceback": [
      "\u001b[0;31m---------------------------------------------------------------------------\u001b[0m",
      "\u001b[0;31mModuleNotFoundError\u001b[0m                       Traceback (most recent call last)",
      "\u001b[0;32m/tmp/ipykernel_88020/2452080082.py\u001b[0m in \u001b[0;36m<module>\u001b[0;34m\u001b[0m\n\u001b[0;32m----> 1\u001b[0;31m \u001b[0;32mfrom\u001b[0m \u001b[0mtopicViz\u001b[0m\u001b[0;34m.\u001b[0m\u001b[0mclean\u001b[0m \u001b[0;32mimport\u001b[0m \u001b[0mremove_pre_tags\u001b[0m\u001b[0;34m\u001b[0m\u001b[0;34m\u001b[0m\u001b[0m\n\u001b[0m\u001b[1;32m      2\u001b[0m \u001b[0;34m\u001b[0m\u001b[0m\n\u001b[1;32m      3\u001b[0m \u001b[0mno_pre_tag\u001b[0m \u001b[0;34m=\u001b[0m \u001b[0;34m[\u001b[0m\u001b[0;34m]\u001b[0m\u001b[0;34m\u001b[0m\u001b[0;34m\u001b[0m\u001b[0m\n\u001b[1;32m      4\u001b[0m \u001b[0;34m\u001b[0m\u001b[0m\n\u001b[1;32m      5\u001b[0m \u001b[0;32mfor\u001b[0m \u001b[0mwith_pre\u001b[0m \u001b[0;32min\u001b[0m \u001b[0mwith_pre_tag\u001b[0m\u001b[0;34m:\u001b[0m\u001b[0;34m\u001b[0m\u001b[0;34m\u001b[0m\u001b[0m\n",
      "\u001b[0;31mModuleNotFoundError\u001b[0m: No module named 'topicViz'"
     ]
    }
   ],
   "source": [
    "from topicViz.clean import remove_pre_tags\n",
    "\n",
    "no_pre_tag = []\n",
    "\n",
    "for with_pre in with_pre_tag:\n",
    "    no_pre = remove_pre_tags(with_pre)\n",
    "    no_pre_tag.append(no_pre)\n"
   ]
  },
  {
   "cell_type": "code",
   "execution_count": null,
   "metadata": {},
   "outputs": [],
   "source": []
  },
  {
   "cell_type": "code",
   "execution_count": null,
   "metadata": {},
   "outputs": [],
   "source": [
    "# Create a new empty dataframe with the desired columns\n",
    "new_dataframe = pd.DataFrame(columns=['Id', 'Title', 'Body', 'Tags', 'CreationDate', 'Y'])\n",
    "\n",
    "# Iterate over the rows of the original dataset\n",
    "for index, row in original_dataframe.iterrows():\n",
    "\n",
    "    # Skip specific rows by index\n",
    "    if index in [8166, 8778, 24599, 32425]:\n",
    "        continue\n",
    "\n",
    "    # Process the body text\n",
    "    body_text = re.sub('<a.*?/a>', '', row['Body']) # Remove <a> tags\n",
    "    body_text = remove_code_blocks(index, body_text) # Remove code blocks\n",
    "    body_text = re.sub('<code>.*?</code>', '', body_text) # Remove inline code\n",
    "    body_text = BeautifulSoup(body_text, 'html.parser').get_text() # Remove other HTML tags\n",
    "    body_text = body_text.replace('\\n', ' ').lower() # Remove newlines and convert to lowercase\n",
    "    body_text = body_text.replace('-', ' ').replace('\\'', '').replace('\\\"', ' ').replace(':', ' ') # Remove certain characters\n",
    "    body_text = body_text.replace('(', ' ').replace(')', ' ').replace('.', ' ').replace(',', ' ').replace('?', ' ').replace('!', ' ') # Remove certain characters\n",
    "    body_text = re.sub('\\s+', ' ', body_text) # Replace multiple spaces with a single space\n",
    "\n",
    "    # Process the tags\n",
    "    tags = re.search('<(.*)>', row['Tags']).group(1).replace('><', ' ') # Extract the tags and remove <>\n",
    "    \n",
    "    # Create a new dictionary with the processed data\n",
    "    new_row = {\n",
    "        'Id': row['Id'], \n",
    "        'Title': row['Title'], \n",
    "        'Body': body_text, \n",
    "        'Tags': tags, \n",
    "        'CreationDate': row['CreationDate'], \n",
    "        'Y': row['Y']\n",
    "    }\n",
    "    \n",
    "    # Add the dictionary to the new dataframe\n",
    "    new_dataframe = new_dataframe.append(new_row, ignore_index=True)\n"
   ]
  },
  {
   "cell_type": "code",
   "execution_count": null,
   "metadata": {},
   "outputs": [],
   "source": []
  }
 ],
 "metadata": {
  "kernelspec": {
   "display_name": "Python 3",
   "language": "python",
   "name": "python3"
  },
  "language_info": {
   "codemirror_mode": {
    "name": "ipython",
    "version": 3
   },
   "file_extension": ".py",
   "mimetype": "text/x-python",
   "name": "python",
   "nbconvert_exporter": "python",
   "pygments_lexer": "ipython3",
   "version": "3.10.6"
  },
  "orig_nbformat": 4
 },
 "nbformat": 4,
 "nbformat_minor": 2
}
