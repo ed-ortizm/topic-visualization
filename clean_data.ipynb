{
 "cells": [
  {
   "attachments": {},
   "cell_type": "markdown",
   "metadata": {},
   "source": [
    "### Add description of the dataset\n",
    "for instance a way to download it from kaggle"
   ]
  },
  {
   "cell_type": "code",
   "execution_count": 1,
   "metadata": {},
   "outputs": [],
   "source": [
    "import pandas as pd\n",
    "\n",
    "from topicViz.clean import HTMLCleaner\n",
    "from topicViz.clean import TextProcessor\n",
    "from topicViz.textinjupyter import markdown_scape_chars"
   ]
  },
  {
   "cell_type": "code",
   "execution_count": 2,
   "metadata": {},
   "outputs": [
    {
     "data": {
      "text/html": [
       "<div>\n",
       "<style scoped>\n",
       "    .dataframe tbody tr th:only-of-type {\n",
       "        vertical-align: middle;\n",
       "    }\n",
       "\n",
       "    .dataframe tbody tr th {\n",
       "        vertical-align: top;\n",
       "    }\n",
       "\n",
       "    .dataframe thead th {\n",
       "        text-align: right;\n",
       "    }\n",
       "</style>\n",
       "<table border=\"1\" class=\"dataframe\">\n",
       "  <thead>\n",
       "    <tr style=\"text-align: right;\">\n",
       "      <th></th>\n",
       "      <th>title</th>\n",
       "      <th>body</th>\n",
       "      <th>tags</th>\n",
       "      <th>creationdate</th>\n",
       "      <th>y</th>\n",
       "    </tr>\n",
       "    <tr>\n",
       "      <th>Id</th>\n",
       "      <th></th>\n",
       "      <th></th>\n",
       "      <th></th>\n",
       "      <th></th>\n",
       "      <th></th>\n",
       "    </tr>\n",
       "  </thead>\n",
       "  <tbody>\n",
       "    <tr>\n",
       "      <th>34552656</th>\n",
       "      <td>Java: Repeat Task Every Random Seconds</td>\n",
       "      <td>&lt;p&gt;I'm already familiar with repeating tasks e...</td>\n",
       "      <td>&lt;java&gt;&lt;repeat&gt;</td>\n",
       "      <td>2016-01-01 00:21:59</td>\n",
       "      <td>LQ_CLOSE</td>\n",
       "    </tr>\n",
       "    <tr>\n",
       "      <th>34553034</th>\n",
       "      <td>Why are Java Optionals immutable?</td>\n",
       "      <td>&lt;p&gt;I'd like to understand why Java 8 Optionals...</td>\n",
       "      <td>&lt;java&gt;&lt;optional&gt;</td>\n",
       "      <td>2016-01-01 02:03:20</td>\n",
       "      <td>HQ</td>\n",
       "    </tr>\n",
       "    <tr>\n",
       "      <th>34553174</th>\n",
       "      <td>Text Overlay Image with Darkened Opacity React...</td>\n",
       "      <td>&lt;p&gt;I am attempting to overlay a title over an ...</td>\n",
       "      <td>&lt;javascript&gt;&lt;image&gt;&lt;overlay&gt;&lt;react-native&gt;&lt;opa...</td>\n",
       "      <td>2016-01-01 02:48:24</td>\n",
       "      <td>HQ</td>\n",
       "    </tr>\n",
       "    <tr>\n",
       "      <th>34553318</th>\n",
       "      <td>Why ternary operator in swift is so picky?</td>\n",
       "      <td>&lt;p&gt;The question is very simple, but I just cou...</td>\n",
       "      <td>&lt;swift&gt;&lt;operators&gt;&lt;whitespace&gt;&lt;ternary-operato...</td>\n",
       "      <td>2016-01-01 03:30:17</td>\n",
       "      <td>HQ</td>\n",
       "    </tr>\n",
       "    <tr>\n",
       "      <th>34553755</th>\n",
       "      <td>hide/show fab with scale animation</td>\n",
       "      <td>&lt;p&gt;I'm using custom floatingactionmenu. I need...</td>\n",
       "      <td>&lt;android&gt;&lt;material-design&gt;&lt;floating-action-but...</td>\n",
       "      <td>2016-01-01 05:21:48</td>\n",
       "      <td>HQ</td>\n",
       "    </tr>\n",
       "  </tbody>\n",
       "</table>\n",
       "</div>"
      ],
      "text/plain": [
       "                                                      title  \\\n",
       "Id                                                            \n",
       "34552656             Java: Repeat Task Every Random Seconds   \n",
       "34553034                  Why are Java Optionals immutable?   \n",
       "34553174  Text Overlay Image with Darkened Opacity React...   \n",
       "34553318         Why ternary operator in swift is so picky?   \n",
       "34553755                 hide/show fab with scale animation   \n",
       "\n",
       "                                                       body  \\\n",
       "Id                                                            \n",
       "34552656  <p>I'm already familiar with repeating tasks e...   \n",
       "34553034  <p>I'd like to understand why Java 8 Optionals...   \n",
       "34553174  <p>I am attempting to overlay a title over an ...   \n",
       "34553318  <p>The question is very simple, but I just cou...   \n",
       "34553755  <p>I'm using custom floatingactionmenu. I need...   \n",
       "\n",
       "                                                       tags  \\\n",
       "Id                                                            \n",
       "34552656                                     <java><repeat>   \n",
       "34553034                                   <java><optional>   \n",
       "34553174  <javascript><image><overlay><react-native><opa...   \n",
       "34553318  <swift><operators><whitespace><ternary-operato...   \n",
       "34553755  <android><material-design><floating-action-but...   \n",
       "\n",
       "                 creationdate         y  \n",
       "Id                                       \n",
       "34552656  2016-01-01 00:21:59  LQ_CLOSE  \n",
       "34553034  2016-01-01 02:03:20        HQ  \n",
       "34553174  2016-01-01 02:48:24        HQ  \n",
       "34553318  2016-01-01 03:30:17        HQ  \n",
       "34553755  2016-01-01 05:21:48        HQ  "
      ]
     },
     "execution_count": 2,
     "metadata": {},
     "output_type": "execute_result"
    }
   ],
   "source": [
    "data_df = pd.read_csv('data/train.csv', index_col='Id')\n",
    "data_df.columns = [column.lower() for column in data_df.columns]\n",
    "data_df.head()"
   ]
  },
  {
   "cell_type": "code",
   "execution_count": 3,
   "metadata": {},
   "outputs": [
    {
     "name": "stdout",
     "output_type": "stream",
     "text": [
      "title                      Java: Repeat Task Every Random Seconds\n",
      "body            <p>I'm already familiar with repeating tasks e...\n",
      "tags                                               <java><repeat>\n",
      "creationdate                                  2016-01-01 00:21:59\n",
      "y                                                        LQ_CLOSE\n",
      "Name: 34552656, dtype: object\n",
      "############################################################\n"
     ]
    },
    {
     "data": {
      "text/markdown": [
       "```\n",
       "'<p>I am new to Ubuntu (Linux tbh). I encountered problem with starting MongoDB service. I want to created web app using Ruby on Rails and MongoDB but mongo seems to fail to start.</p>\\n\\n<p>I followed this <a href=\"https://docs.mongodb.org/v3.0/tutorial/install-mongodb-on-ubuntu/\">MongoDB installation on Ubuntu</a> all of installation went without problems until I got to <code>sudo service mongod start</code> </p>\\n\\n<p><strong>mongod.log</strong></p>\\n\\n<pre><code>2016-01-01T10:58:15.545+0000 I CONTROL  ***** SERVER RESTARTED *****\\n2016-01-01T10:58:15.548+0000 I CONTROL  [initandlisten] MongoDB starting : pid=3868 port=27017 dbpath=/var/lib/mongodb 64-bit host=damian-CX61-0NC-CX61-0ND-CX61-0NF-CX61-0NE\\n2016-01-01T10:58:15.548+0000 I CONTROL  [initandlisten] db version v3.0.8\\n2016-01-01T10:58:15.548+0000 I CONTROL  [initandlisten] git version: 83d8cc25e00e42856924d84e220fbe4a839e605d\\n2016-01-01T10:58:15.548+0000 I CONTROL  [initandlisten] build info: Linux ip-10-187-89-126 3.13.0-24-generic #46-Ubuntu SMP Thu Apr 10 19:11:08 UTC 2014 x86_64 BOOST_LIB_VERSION=1_49\\n2016-01-01T10:58:15.548+0000 I CONTROL  [initandlisten] allocator: tcmalloc\\n2016-01-01T10:58:15.548+0000 I CONTROL  [initandlisten] options: { config: \"/etc/mongod.conf\", net: { bindIp: \"127.0.0.1\", port: 27017 }, storage: { dbPath: \"/var/lib/mongodb\", journal: { enabled: true } }, systemLog: { destination: \"file\", logAppend: true, path: \"/var/log/mongodb/mongod.log\" } }\\n2016-01-01T10:58:15.567+0000 E NETWORK  [initandlisten] Failed to unlink socket file /tmp/mongodb-27017.sock errno:1 Operation not permitted\\n2016-01-01T10:58:15.567+0000 I -        [initandlisten] Fatal Assertion 28578\\n2016-01-01T10:58:15.567+0000 I -        [initandlisten] \\n\\n***aborting after fassert() failure\\n</code></pre>\\n\\n<p>So what I am doing wrong or its different issue?</p>\\n'\n",
       "```"
      ],
      "text/plain": [
       "<IPython.core.display.Markdown object>"
      ]
     },
     "metadata": {},
     "output_type": "display_data"
    }
   ],
   "source": [
    "# sample row from the data\n",
    "n_row = 10\n",
    "print(data_df.iloc[0])\n",
    "print('#'*60)\n",
    "row_body = data_df.iloc[n_row]['body']\n",
    "markdown_scape_chars(row_body)"
   ]
  },
  {
   "attachments": {},
   "cell_type": "markdown",
   "metadata": {},
   "source": [
    "#### Remove HTML from posts"
   ]
  },
  {
   "cell_type": "code",
   "execution_count": 4,
   "metadata": {},
   "outputs": [],
   "source": [
    "# instantiate cleaner\n",
    "cleaner = HTMLCleaner()\n",
    "html_cleaned_df = data_df.copy()"
   ]
  },
  {
   "cell_type": "code",
   "execution_count": 5,
   "metadata": {},
   "outputs": [],
   "source": [
    "# clean the body column\n",
    "html_cleaned_df['body'] = html_cleaned_df['body'].apply(\n",
    "    cleaner.remove_preformatted_text\n",
    ")\n",
    "\n",
    "html_cleaned_df['body'] = html_cleaned_df['body'].apply(\n",
    "    cleaner.remove_code_blocks\n",
    ")\n",
    "\n",
    "html_cleaned_df['body'] = html_cleaned_df['body'].apply(\n",
    "    cleaner.remove_hyperlinks\n",
    ")\n",
    "\n",
    "html_cleaned_df['body'] = html_cleaned_df['body'].apply(\n",
    "    cleaner.clean_html\n",
    ")"
   ]
  },
  {
   "cell_type": "code",
   "execution_count": 6,
   "metadata": {},
   "outputs": [],
   "source": [
    "# clean the tags column\n",
    "html_cleaned_df['tags'] = html_cleaned_df['tags'].apply(\n",
    "    cleaner.clean_html\n",
    ")"
   ]
  },
  {
   "cell_type": "code",
   "execution_count": 7,
   "metadata": {},
   "outputs": [
    {
     "data": {
      "text/markdown": [
       "```\n",
       "'<p>I am new to Ubuntu (Linux tbh). I encountered problem with starting MongoDB service. I want to created web app using Ruby on Rails and MongoDB but mongo seems to fail to start.</p>\\n\\n<p>I followed this <a href=\"https://docs.mongodb.org/v3.0/tutorial/install-mongodb-on-ubuntu/\">MongoDB installation on Ubuntu</a> all of installation went without problems until I got to <code>sudo service mongod start</code> </p>\\n\\n<p><strong>mongod.log</strong></p>\\n\\n<pre><code>2016-01-01T10:58:15.545+0000 I CONTROL  ***** SERVER RESTARTED *****\\n2016-01-01T10:58:15.548+0000 I CONTROL  [initandlisten] MongoDB starting : pid=3868 port=27017 dbpath=/var/lib/mongodb 64-bit host=damian-CX61-0NC-CX61-0ND-CX61-0NF-CX61-0NE\\n2016-01-01T10:58:15.548+0000 I CONTROL  [initandlisten] db version v3.0.8\\n2016-01-01T10:58:15.548+0000 I CONTROL  [initandlisten] git version: 83d8cc25e00e42856924d84e220fbe4a839e605d\\n2016-01-01T10:58:15.548+0000 I CONTROL  [initandlisten] build info: Linux ip-10-187-89-126 3.13.0-24-generic #46-Ubuntu SMP Thu Apr 10 19:11:08 UTC 2014 x86_64 BOOST_LIB_VERSION=1_49\\n2016-01-01T10:58:15.548+0000 I CONTROL  [initandlisten] allocator: tcmalloc\\n2016-01-01T10:58:15.548+0000 I CONTROL  [initandlisten] options: { config: \"/etc/mongod.conf\", net: { bindIp: \"127.0.0.1\", port: 27017 }, storage: { dbPath: \"/var/lib/mongodb\", journal: { enabled: true } }, systemLog: { destination: \"file\", logAppend: true, path: \"/var/log/mongodb/mongod.log\" } }\\n2016-01-01T10:58:15.567+0000 E NETWORK  [initandlisten] Failed to unlink socket file /tmp/mongodb-27017.sock errno:1 Operation not permitted\\n2016-01-01T10:58:15.567+0000 I -        [initandlisten] Fatal Assertion 28578\\n2016-01-01T10:58:15.567+0000 I -        [initandlisten] \\n\\n***aborting after fassert() failure\\n</code></pre>\\n\\n<p>So what I am doing wrong or its different issue?</p>\\n'\n",
       "```"
      ],
      "text/plain": [
       "<IPython.core.display.Markdown object>"
      ]
     },
     "metadata": {},
     "output_type": "display_data"
    },
    {
     "name": "stdout",
     "output_type": "stream",
     "text": [
      "############################################################\n"
     ]
    },
    {
     "data": {
      "text/markdown": [
       "```\n",
       "'I am new to Ubuntu (Linux tbh). I encountered problem with starting MongoDB service. I want to created web app using Ruby on Rails and MongoDB but mongo seems to fail to start.\\nI followed this  all of installation went without problems until I got to  \\nmongod.log\\nSo what I am doing wrong or its different issue?\\n'\n",
       "```"
      ],
      "text/plain": [
       "<IPython.core.display.Markdown object>"
      ]
     },
     "metadata": {},
     "output_type": "display_data"
    }
   ],
   "source": [
    "n_row = 10\n",
    "row_body = data_df.iloc[n_row]['body']\n",
    "markdown_scape_chars(row_body)\n",
    "print('#'*60)\n",
    "row_body = html_cleaned_df.iloc[n_row]['body']\n",
    "markdown_scape_chars(row_body)\n"
   ]
  },
  {
   "attachments": {},
   "cell_type": "markdown",
   "metadata": {},
   "source": [
    "### Check special rows"
   ]
  },
  {
   "cell_type": "code",
   "execution_count": 8,
   "metadata": {},
   "outputs": [],
   "source": [
    "# not clear why these rows are special??\n",
    "# i = 4\n",
    "# special_rows = [8166, 8778, 24599, 32425]\n",
    "# n_row = special_rows[i]\n",
    "\n",
    "# row_body = data_cleaned_df.iloc[n_row]['body']\n",
    "# markdown_scape_chars(row_body)"
   ]
  },
  {
   "cell_type": "code",
   "execution_count": null,
   "metadata": {},
   "outputs": [],
   "source": []
  },
  {
   "attachments": {},
   "cell_type": "markdown",
   "metadata": {},
   "source": [
    "#### Clean text"
   ]
  },
  {
   "cell_type": "code",
   "execution_count": 9,
   "metadata": {},
   "outputs": [],
   "source": [
    "# instantiate text processor\n",
    "text_processor = TextProcessor()\n",
    "text_cleaned_df = html_cleaned_df.copy()"
   ]
  },
  {
   "cell_type": "code",
   "execution_count": 10,
   "metadata": {},
   "outputs": [],
   "source": [
    "# clean the body column\n",
    "text_cleaned_df['body'] = text_cleaned_df['body'].apply(\n",
    "    text_processor.replace_newlines\n",
    ")\n",
    "\n",
    "text_cleaned_df['body'] = text_cleaned_df['body'].apply(\n",
    "    text_processor.to_lowercase\n",
    ")\n",
    "\n",
    "text_cleaned_df['body'] = text_cleaned_df['body'].apply(\n",
    "    text_processor.replace_dash_quotes\n",
    ")\n",
    "\n",
    "text_cleaned_df['body'] = text_cleaned_df['body'].apply(\n",
    "    text_processor.replace_marks\n",
    ")\n",
    "\n",
    "text_cleaned_df['body'] = text_cleaned_df['body'].apply(\n",
    "    text_processor.replace_punctuation\n",
    ")"
   ]
  },
  {
   "cell_type": "code",
   "execution_count": 11,
   "metadata": {},
   "outputs": [
    {
     "data": {
      "text/markdown": [
       "```\n",
       "'<p>I am new to Ubuntu (Linux tbh). I encountered problem with starting MongoDB service. I want to created web app using Ruby on Rails and MongoDB but mongo seems to fail to start.</p>\\n\\n<p>I followed this <a href=\"https://docs.mongodb.org/v3.0/tutorial/install-mongodb-on-ubuntu/\">MongoDB installation on Ubuntu</a> all of installation went without problems until I got to <code>sudo service mongod start</code> </p>\\n\\n<p><strong>mongod.log</strong></p>\\n\\n<pre><code>2016-01-01T10:58:15.545+0000 I CONTROL  ***** SERVER RESTARTED *****\\n2016-01-01T10:58:15.548+0000 I CONTROL  [initandlisten] MongoDB starting : pid=3868 port=27017 dbpath=/var/lib/mongodb 64-bit host=damian-CX61-0NC-CX61-0ND-CX61-0NF-CX61-0NE\\n2016-01-01T10:58:15.548+0000 I CONTROL  [initandlisten] db version v3.0.8\\n2016-01-01T10:58:15.548+0000 I CONTROL  [initandlisten] git version: 83d8cc25e00e42856924d84e220fbe4a839e605d\\n2016-01-01T10:58:15.548+0000 I CONTROL  [initandlisten] build info: Linux ip-10-187-89-126 3.13.0-24-generic #46-Ubuntu SMP Thu Apr 10 19:11:08 UTC 2014 x86_64 BOOST_LIB_VERSION=1_49\\n2016-01-01T10:58:15.548+0000 I CONTROL  [initandlisten] allocator: tcmalloc\\n2016-01-01T10:58:15.548+0000 I CONTROL  [initandlisten] options: { config: \"/etc/mongod.conf\", net: { bindIp: \"127.0.0.1\", port: 27017 }, storage: { dbPath: \"/var/lib/mongodb\", journal: { enabled: true } }, systemLog: { destination: \"file\", logAppend: true, path: \"/var/log/mongodb/mongod.log\" } }\\n2016-01-01T10:58:15.567+0000 E NETWORK  [initandlisten] Failed to unlink socket file /tmp/mongodb-27017.sock errno:1 Operation not permitted\\n2016-01-01T10:58:15.567+0000 I -        [initandlisten] Fatal Assertion 28578\\n2016-01-01T10:58:15.567+0000 I -        [initandlisten] \\n\\n***aborting after fassert() failure\\n</code></pre>\\n\\n<p>So what I am doing wrong or its different issue?</p>\\n'\n",
       "```"
      ],
      "text/plain": [
       "<IPython.core.display.Markdown object>"
      ]
     },
     "metadata": {},
     "output_type": "display_data"
    },
    {
     "name": "stdout",
     "output_type": "stream",
     "text": [
      "############################################################\n"
     ]
    },
    {
     "data": {
      "text/markdown": [
       "```\n",
       "'I am new to Ubuntu (Linux tbh). I encountered problem with starting MongoDB service. I want to created web app using Ruby on Rails and MongoDB but mongo seems to fail to start.\\nI followed this  all of installation went without problems until I got to  \\nmongod.log\\nSo what I am doing wrong or its different issue?\\n'\n",
       "```"
      ],
      "text/plain": [
       "<IPython.core.display.Markdown object>"
      ]
     },
     "metadata": {},
     "output_type": "display_data"
    },
    {
     "name": "stdout",
     "output_type": "stream",
     "text": [
      "############################################################\n"
     ]
    },
    {
     "data": {
      "text/markdown": [
       "```\n",
       "'i am new to ubuntu  linux tbh   i encountered problem with starting mongodb service  i want to created web app using ruby on rails and mongodb but mongo seems to fail to start  i followed this all of installation went without problems until i got to mongod log so what i am doing wrong or its different issue  '\n",
       "```"
      ],
      "text/plain": [
       "<IPython.core.display.Markdown object>"
      ]
     },
     "metadata": {},
     "output_type": "display_data"
    }
   ],
   "source": [
    "n_row = 10\n",
    "\n",
    "row_body = data_df.iloc[n_row]['body']\n",
    "markdown_scape_chars(row_body)\n",
    "\n",
    "print('#'*60)\n",
    "\n",
    "row_body = html_cleaned_df.iloc[n_row]['body']\n",
    "markdown_scape_chars(row_body)\n",
    "\n",
    "print('#'*60)\n",
    "\n",
    "row_body = text_cleaned_df.iloc[n_row]['body']\n",
    "markdown_scape_chars(row_body)\n"
   ]
  },
  {
   "attachments": {},
   "cell_type": "markdown",
   "metadata": {},
   "source": [
    "### Save cleaned data"
   ]
  },
  {
   "cell_type": "code",
   "execution_count": 12,
   "metadata": {},
   "outputs": [],
   "source": [
    "html_cleaned_df.to_csv('data/html_cleaned.csv')\n",
    "text_cleaned_df.to_csv('data/text_html_cleaned.csv')"
   ]
  }
 ],
 "metadata": {
  "kernelspec": {
   "display_name": "Python 3",
   "language": "python",
   "name": "python3"
  },
  "language_info": {
   "codemirror_mode": {
    "name": "ipython",
    "version": 3
   },
   "file_extension": ".py",
   "mimetype": "text/x-python",
   "name": "python",
   "nbconvert_exporter": "python",
   "pygments_lexer": "ipython3",
   "version": "3.10.6"
  },
  "orig_nbformat": 4
 },
 "nbformat": 4,
 "nbformat_minor": 2
}
